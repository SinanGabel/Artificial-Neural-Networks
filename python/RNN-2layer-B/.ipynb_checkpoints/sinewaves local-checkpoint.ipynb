{
 "cells": [
  {
   "cell_type": "markdown",
   "metadata": {},
   "source": [
    "source: https://github.com/GoogleCloudPlatform/training-data-analyst/tree/master/courses/machine_learning/deepdive/09_sequence/labs\n",
    "\n",
    "I have cut out the cloud portion so it is only local training, to check the ML engine part refer to the original source."
   ]
  },
  {
   "cell_type": "code",
   "execution_count": 20,
   "metadata": {},
   "outputs": [
    {
     "name": "stdout",
     "output_type": "stream",
     "text": [
      "1.12.0\n"
     ]
    }
   ],
   "source": [
    "import numpy as np\n",
    "import tensorflow as tf\n",
    "import os\n",
    "\n",
    "print(tf.__version__)"
   ]
  },
  {
   "cell_type": "markdown",
   "metadata": {},
   "source": [
    "<h1> Time series prediction, end-to-end </h1>\n",
    "\n",
    "This notebook illustrates several models to find the next value of a time-series:\n",
    "<ol>\n",
    "<li> Linear\n",
    "<li> DNN\n",
    "<li> CNN \n",
    "<li> RNN\n",
    "</ol>"
   ]
  },
  {
   "cell_type": "code",
   "execution_count": 21,
   "metadata": {},
   "outputs": [],
   "source": [
    "SEQ_LEN = 50"
   ]
  },
  {
   "cell_type": "markdown",
   "metadata": {},
   "source": [
    "<h3> Simulate some time-series data </h3>\n",
    "\n",
    "Essentially a set of sinusoids with random amplitudes and frequencies."
   ]
  },
  {
   "cell_type": "code",
   "execution_count": 22,
   "metadata": {},
   "outputs": [],
   "source": [
    "def create_time_series():\n",
    "  freq = (np.random.random()*0.5) + 0.1  # 0.1 to 0.6\n",
    "  ampl = np.random.random() + 0.5  # 0.5 to 1.5\n",
    "  noise = [np.random.random()*0.3 for i in range(SEQ_LEN)] # -0.3 to +0.3 uniformly distributed\n",
    "  x = np.sin(np.arange(0,SEQ_LEN) * freq) * ampl + noise\n",
    "  return x"
   ]
  },
  {
   "cell_type": "code",
   "execution_count": 23,
   "metadata": {},
   "outputs": [],
   "source": [
    "def to_csv(filename, N):\n",
    "  with open(filename, 'w') as ofp:\n",
    "    for i in range(0, N):\n",
    "      seq = create_time_series()\n",
    "      line = \",\".join(map(str, seq))\n",
    "      ofp.write(line + '\\n')"
   ]
  },
  {
   "cell_type": "code",
   "execution_count": 24,
   "metadata": {},
   "outputs": [],
   "source": [
    "try:\n",
    "  os.makedirs('data/sines/')\n",
    "  os.makedirs('trained/sines/')\n",
    "except OSError:\n",
    "  pass"
   ]
  },
  {
   "cell_type": "code",
   "execution_count": 25,
   "metadata": {},
   "outputs": [],
   "source": [
    "to_csv('data/sines/train-1.csv', 1000)  # 1000 sequences\n",
    "to_csv('data/sines/valid-1.csv', 250)   # 250 sequences"
   ]
  },
  {
   "cell_type": "code",
   "execution_count": 26,
   "metadata": {},
   "outputs": [
    {
     "name": "stdout",
     "output_type": "stream",
     "text": [
      "==> data/sines/train-1.csv <==\r\n",
      "0.2823323020847652,0.3819824615351557,0.5264839464174602,0.8694346660221864,0.8696421622571993,0.9619108797501927,1.1762664523525654,1.0273915009028465,1.1897408981682474,0.9943064020181687,1.026994254691376,0.7687822476134952,0.7044421887371354,0.6823893405730586,0.31492712144773544,0.1750388473597263,0.028814304623702935,-0.2346364273013079,-0.4188334478071756,-0.6258252466545875,-0.5886595393231615,-0.769428968191868,-0.7450343362176094,-0.796868624259724,-0.8194373350801099,-0.6953568239592307,-0.6016374553949322,-0.3232881822196406,-0.15679788545448375,0.029247133277437526,0.15492672970016955,0.2720499729211129,0.509378462436521,0.6493107019883545,0.9558202303551813,1.1097399432275652,1.005025676533218,1.2963929337850688,1.2868931670945596,1.0863171019861375,0.8998199340199049,0.978664343928614,0.8591521593536399,0.43779757987184875,0.24551261136735308,0.2822983303966359,-0.1413927939735008,-0.21370769957221858,-0.3361523268983017,-0.6270385650984456\r\n",
      "0.004921787728049254,0.7314544555688489,0.9880568470732863,1.4105682570216365,1.3553505319219499,1.339955836888418,1.2175393730075967,0.7733310490153786,0.3886018416277989,-0.033178726450416585,-0.4677363160370068,-0.7334285650272949,-1.1007607125170793,-1.2201490275714237,-1.0635737527132456,-0.7474777962753814,-0.42076102300011464,0.0658551823196765,0.49924565523698333,1.0896324030880158,1.2158852230335448,1.3352449076797157,1.531296320983782,1.2189217872558682,0.847791031422927,0.5687598879223135,0.025549386087617157,-0.5252288165721195,-0.9509523146791004,-1.1057093928431945,-1.2696087227657102,-1.0397071228570323,-0.8597670957540644,-0.42720793457866413,-0.06235826905940148,0.4471164272613343,0.9117225615279899,1.2195030176854487,1.4496793374097272,1.3647697284201947,1.457222581302354,0.9204910142370153,0.49017671944046415,0.26382158677301315,-0.2655940786583679,-0.8181873712575896,-0.9531314299237128,-1.2663009005848451,-1.0634620422248904,-0.8719482189589733\r\n",
      "0.26422985572433316,0.47593300718111786,0.8838477668673985,1.1389259943898964,1.341137779947469,1.4848528705568653,1.2347250087553985,1.124165372709085,0.8080183933063174,0.44088607721864803,-0.0363319710498681,-0.5276496637763537,-0.7980991788787779,-0.9690547884169141,-1.1693542365477991,-0.9170824829191131,-0.9134087464912368,-0.6485982336582434,-0.23969433586926747,0.037411342866409264,0.4924330423381641,0.8994189799216843,1.2524148911692778,1.2522387798150028,1.446029315573357,1.3088539514820388,0.9712322530555407,0.7171648829695814,0.26605047259067854,-0.12708252144754256,-0.28005288505712617,-0.8303928011874895,-0.9300516658094086,-1.0931091062100196,-1.0555322204368032,-0.7735604305522085,-0.6954181821751118,-0.30708447434163766,0.24224370909376222,0.6321787128273519,0.9280972367903624,1.154289481774297,1.1966944221312221,1.2483546058442074,1.1989248657597777,1.0810786627003388,0.75299037713532,0.5173976373866191,0.12120189179304419,-0.27406147310375895\r\n",
      "\r\n",
      "==> data/sines/valid-1.csv <==\r\n",
      "0.027572618295057992,0.3341290578389337,0.2752155318702048,0.4948301534174089,0.6838693117849431,0.6771627060949906,0.5886000581178739,0.8193516780459749,0.7937208476750446,0.9745637332471548,1.0494244975540536,1.0138211481206332,0.8160828552711528,0.9779275104678189,0.7733685158898835,0.6689568433437925,0.6556320814024839,0.6483253433229998,0.579424179971294,0.5673670378599105,0.4985903118013274,0.1773724331735701,0.14691435751065973,0.1048127656041668,-0.12317004200095696,-0.09067366231391175,-0.17975421392601243,-0.46784283290665957,-0.29858453209530833,-0.5009199740760437,-0.5856904164788248,-0.4649062467164743,-0.59953341614742,-0.65060285104625,-0.7119696710013446,-0.46642897745199446,-0.6591181123126815,-0.5990531644458902,-0.4176457366684577,-0.43881587432331337,-0.20751583309082594,-0.17059470481978953,-0.06725741604147448,0.08594211246699143,0.07798443766798296,0.2344551291612143,0.3954407136994267,0.4349121143805742,0.48277348267001396,0.7580305459701859\r\n",
      "0.07515605214994428,0.4660140453396471,0.8046728412015451,1.1616819400510918,1.3418300332928108,1.482627583280485,1.5383386397916277,1.5238332016947465,1.2378292171315601,1.2226109540207055,0.9033992172037775,0.2569319133688383,-0.10916010931652535,-0.43989096765938507,-0.734477524109767,-0.9284868352861554,-1.1107385173017956,-1.2236898424809064,-1.257840618680789,-1.1229594114031711,-1.096518521546483,-0.7950497707912418,-0.44299026477826564,0.019326443550738287,0.3738529417640568,0.8044777254884039,1.1254456479407084,1.2649284633207443,1.5815161368522694,1.643357884156846,1.698603987532453,1.3292990133891647,1.0884909551304718,0.8350744156058671,0.5328539642204396,0.0993048345672016,-0.21999461668609058,-0.5111070185735213,-0.8444307812312448,-1.2019643385150456,-1.2798742883831207,-1.3293823898977684,-1.1296389108711624,-1.1062608516332477,-0.7602034107870395,-0.591001238694845,-0.18830773554816665,0.4090296939332052,0.5423403984323871,1.128550508410564\r\n",
      "0.2730161199854734,0.6413237211546191,0.9628964505222933,1.1902280075098133,1.3059811255992968,1.3988756820375956,1.2857107735551665,0.9066747935208584,0.48571311980568427,0.2980283314904614,-0.23304160499188578,-0.6160020512395225,-0.7197693209840392,-0.9539815195068883,-0.8909608544153236,-0.9686177581474408,-0.5764510719878186,-0.3994512871943612,0.05687136778629853,0.2844401167877593,0.790739261088836,1.0148626125289493,1.1594255547443457,1.3763386621167628,1.3778786626325399,1.1823916795204692,0.7895825116143789,0.29941665379829757,-0.10254004309124191,-0.4155891703060421,-0.6260263330078337,-1.0736463707385644,-1.1260452263568814,-1.1091996128700563,-0.8896340112648897,-0.46198869071542914,-0.13703672892983024,0.12563510240811504,0.6083108570758061,1.0960311183089864,1.3199753854249607,1.212225113091557,1.3679977633767244,1.2800674883580656,1.009200765733474,0.481060691832318,0.13930403199131977,-0.3132374596908706,-0.48703088549833795,-0.8265029701460582\r\n"
     ]
    }
   ],
   "source": [
    "!head -3 data/sines/*-1.csv"
   ]
  },
  {
   "cell_type": "markdown",
   "metadata": {},
   "source": [
    "<h3> Train model locally </h3>\n",
    "\n",
    "Make sure the code works as intended.\n",
    "\n",
    "The `model.py` and `task.py` containing the model code is in <a href=\"sinemodel\">sinemodel/</a>\n",
    "\n",
    "**Complete the TODOs in `model.py` before proceeding!**\n",
    "\n",
    "Once you've completed the TODOs, set `--model` below to the appropriate model (linear,dnn,cnn,rnn,rnn2 or rnnN) and run it locally for a few steps to test the code."
   ]
  },
  {
   "cell_type": "code",
   "execution_count": 27,
   "metadata": {},
   "outputs": [
    {
     "name": "stdout",
     "output_type": "stream",
     "text": [
      "/home/local/git-private/Artificial-Neural-Networks/python/RNN-2layer-examples-2018DEC-B\r\n"
     ]
    }
   ],
   "source": [
    "!echo $(pwd)"
   ]
  },
  {
   "cell_type": "code",
   "execution_count": 49,
   "metadata": {},
   "outputs": [],
   "source": [
    "#!/bin/sh\n",
    "DATADIR=\"$(pwd)/data/sines\"\n",
    "OUTDIR=\"$(pwd)/trained/sines\"\n"
   ]
  },
  {
   "cell_type": "code",
   "execution_count": 53,
   "metadata": {},
   "outputs": [
    {
     "name": "stdout",
     "output_type": "stream",
     "text": [
      "/home/local/git-private/Artificial-Neural-Networks/python/RNN-2layer-examples-2018DEC-B/data/sines\n",
      "/home/local/git-private/Artificial-Neural-Networks/python/RNN-2layer-examples-2018DEC-B/trained/sines\n"
     ]
    }
   ],
   "source": [
    "!echo $DATADIR\n",
    "!echo $OUTDIR\n"
   ]
  },
  {
   "cell_type": "code",
   "execution_count": 56,
   "metadata": {},
   "outputs": [
    {
     "ename": "SyntaxError",
     "evalue": "invalid syntax (<ipython-input-56-e3b2797538e4>, line 3)",
     "output_type": "error",
     "traceback": [
      "\u001b[0;36m  File \u001b[0;32m\"<ipython-input-56-e3b2797538e4>\"\u001b[0;36m, line \u001b[0;32m3\u001b[0m\n\u001b[0;31m    gcloud ml-engine local train    --module-name=sinemodel.task    --package-path=\"${pwd}/sinemodel\"    --    --train_data_path=\"$DATADIR/train-1.csv\"    --eval_data_path=\"$DATADIR/valid-1.csv\"     --output_dir=\"$OUTDIR\"    --model=linear --train_steps=10 --sequence_length=$SEQ_LEN\u001b[0m\n\u001b[0m            ^\u001b[0m\n\u001b[0;31mSyntaxError\u001b[0m\u001b[0;31m:\u001b[0m invalid syntax\n"
     ]
    }
   ],
   "source": [
    "#!/bin/sh\n",
    "\n",
    "gcloud ml-engine local train \\\n",
    "   --module-name=sinemodel.task \\\n",
    "   --package-path=\"${pwd}/sinemodel\" \\\n",
    "   -- \\\n",
    "   --train_data_path=\"$DATADIR/train-1.csv\" \\\n",
    "   --eval_data_path=\"$DATADIR/valid-1.csv\"  \\\n",
    "   --output_dir=\"$OUTDIR\" \\\n",
    "   --model=linear --train_steps=10 --sequence_length=$SEQ_LEN"
   ]
  },
  {
   "cell_type": "markdown",
   "metadata": {},
   "source": [
    "<h3> Cloud ML Engine </h3>\n",
    "\n",
    "Now to train on Cloud ML Engine with more data."
   ]
  },
  {
   "cell_type": "code",
   "execution_count": null,
   "metadata": {},
   "outputs": [],
   "source": [
    "import shutil\n",
    "shutil.rmtree('data/sines', ignore_errors=True)\n",
    "os.makedirs('data/sines/')\n",
    "for i in range(0,10):\n",
    "  to_csv('data/sines/train-{}.csv'.format(i), 1000)  # 1000 sequences\n",
    "  to_csv('data/sines/valid-{}.csv'.format(i), 250)"
   ]
  },
  {
   "cell_type": "code",
   "execution_count": null,
   "metadata": {},
   "outputs": [],
   "source": [
    "%bash\n",
    "gsutil -m rm -rf gs://${BUCKET}/sines/*\n",
    "gsutil -m cp data/sines/*.csv gs://${BUCKET}/sines"
   ]
  },
  {
   "cell_type": "code",
   "execution_count": null,
   "metadata": {},
   "outputs": [],
   "source": [
    "%%bash\n",
    "for MODEL in linear dnn cnn rnn rnn2 rnnN; do\n",
    "  OUTDIR=gs://${BUCKET}/sinewaves/${MODEL}\n",
    "  JOBNAME=sines_${MODEL}_$(date -u +%y%m%d_%H%M%S)\n",
    "  REGION=us-central1\n",
    "  gsutil -m rm -rf $OUTDIR\n",
    "  gcloud ml-engine jobs submit training $JOBNAME \\\n",
    "     --region=$REGION \\\n",
    "     --module-name=sinemodel.task \\\n",
    "     --package-path=${PWD}/sinemodel \\\n",
    "     --job-dir=$OUTDIR \\\n",
    "     --staging-bucket=gs://$BUCKET \\\n",
    "     --scale-tier=BASIC_GPU \\\n",
    "     --runtime-version=$TFVERSION \\\n",
    "     -- \\\n",
    "     --train_data_path=\"gs://${BUCKET}/sines/train*.csv\" \\\n",
    "     --eval_data_path=\"gs://${BUCKET}/sines/valid*.csv\"  \\\n",
    "     --output_dir=$OUTDIR \\\n",
    "     --train_steps=3000 --sequence_length=$SEQ_LEN --model=$MODEL\n",
    "done"
   ]
  },
  {
   "cell_type": "markdown",
   "metadata": {},
   "source": [
    "## Monitor training with TensorBoard\n",
    "\n",
    "Use this cell to launch tensorboard. If tensorboard appears blank try refreshing after 5 minutes"
   ]
  },
  {
   "cell_type": "code",
   "execution_count": null,
   "metadata": {},
   "outputs": [],
   "source": [
    "from google.datalab.ml import TensorBoard\n",
    "TensorBoard().start('gs://{}/sinewaves'.format(BUCKET))"
   ]
  },
  {
   "cell_type": "code",
   "execution_count": null,
   "metadata": {},
   "outputs": [],
   "source": [
    "for pid in TensorBoard.list()['pid']:\n",
    "  TensorBoard().stop(pid)\n",
    "  print 'Stopped TensorBoard with pid {}'.format(pid)"
   ]
  },
  {
   "cell_type": "markdown",
   "metadata": {},
   "source": [
    "## Results\n",
    "\n",
    "Complete the below table with your own results! Then compare your results to the results in the solution notebook.\n",
    "\n",
    "| Model | Sequence length | # of steps | Minutes | RMSE |\n",
    "| --- | ----| --- | --- | --- | \n",
    "| linear | 50 | 3000 | - | - |\n",
    "| dnn | 50 | 3000 | - | - |\n",
    "| cnn | 50 | 3000 | - | - |\n",
    "| rnn | 50 | 3000 | - | - |\n",
    "| rnn2 | 50 | 3000 | - | - |\n",
    "| rnnN | 50 | 3000 | - | - |"
   ]
  },
  {
   "cell_type": "markdown",
   "metadata": {},
   "source": [
    "Copyright 2017 Google Inc. Licensed under the Apache License, Version 2.0 (the \"License\"); you may not use this file except in compliance with the License. You may obtain a copy of the License at http://www.apache.org/licenses/LICENSE-2.0 Unless required by applicable law or agreed to in writing, software distributed under the License is distributed on an \"AS IS\" BASIS, WITHOUT WARRANTIES OR CONDITIONS OF ANY KIND, either express or implied. See the License for the specific language governing permissions and limitations under the License"
   ]
  }
 ],
 "metadata": {
  "kernelspec": {
   "display_name": "Python 3",
   "language": "python",
   "name": "python3"
  },
  "language_info": {
   "codemirror_mode": {
    "name": "ipython",
    "version": 3
   },
   "file_extension": ".py",
   "mimetype": "text/x-python",
   "name": "python",
   "nbconvert_exporter": "python",
   "pygments_lexer": "ipython3",
   "version": "3.6.7"
  }
 },
 "nbformat": 4,
 "nbformat_minor": 2
}
